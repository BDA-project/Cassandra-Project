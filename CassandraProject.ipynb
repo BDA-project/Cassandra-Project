{
  "nbformat": 4,
  "nbformat_minor": 0,
  "metadata": {
    "colab": {
      "provenance": []
    },
    "kernelspec": {
      "name": "python3",
      "display_name": "Python 3"
    },
    "language_info": {
      "name": "python"
    }
  },
  "cells": [
    {
      "cell_type": "markdown",
      "source": [
        "En este notebook de Colab está el código y la documentación de lo que realizamos en el proyecto para comparar el uso de diferentes herramientas de bases de datos avanzadas. \n",
        "La siguiente información es sobre el uso de Cassandra DB como base de datos y Apache Spark para realizar las consultas sobre conjuntos de datos."
      ],
      "metadata": {
        "id": "fXIOFTAcdx1O"
      }
    },
    {
      "cell_type": "markdown",
      "source": [
        "# Cassandra DB\n",
        "\n",
        "\n"
      ],
      "metadata": {
        "id": "IzuRkrTlZd15"
      }
    },
    {
      "cell_type": "markdown",
      "source": [
        "## Instalación y configuración\n",
        "Los siguientes códigos se relacionan a la instalación e importación de librerias, también la configuración básica para conectar este Notebook a la base de datos. \n",
        "\n",
        "Para la utilización de base de datos decidimos utilizar el servicio de datastax llamado AstraDB, basado en Cassandra, que nos facilita la administración e utilización en linea, ya que se encuentra en la nube y con una fácil conexión a python desde Colab. Cumple con las características de la base de datos NoSQL Cassandra y la utilizamos como tal. "
      ],
      "metadata": {
        "id": "hVtgDTUweg-H"
      }
    },
    {
      "cell_type": "code",
      "source": [
        "!pip install cassandra-driver"
      ],
      "metadata": {
        "colab": {
          "base_uri": "https://localhost:8080/"
        },
        "id": "snmbQUhhVxFi",
        "outputId": "8fbefd0b-8ed5-4a9a-9b44-ce8699d44e5e"
      },
      "execution_count": 1,
      "outputs": [
        {
          "output_type": "stream",
          "name": "stdout",
          "text": [
            "Looking in indexes: https://pypi.org/simple, https://us-python.pkg.dev/colab-wheels/public/simple/\n",
            "Collecting cassandra-driver\n",
            "  Downloading cassandra_driver-3.28.0-cp310-cp310-manylinux_2_17_x86_64.manylinux2014_x86_64.whl (19.1 MB)\n",
            "\u001b[2K     \u001b[90m━━━━━━━━━━━━━━━━━━━━━━━━━━━━━━━━━━━━━━━━\u001b[0m \u001b[32m19.1/19.1 MB\u001b[0m \u001b[31m26.5 MB/s\u001b[0m eta \u001b[36m0:00:00\u001b[0m\n",
            "\u001b[?25hRequirement already satisfied: six>=1.9 in /usr/local/lib/python3.10/dist-packages (from cassandra-driver) (1.16.0)\n",
            "Collecting geomet<0.3,>=0.1 (from cassandra-driver)\n",
            "  Downloading geomet-0.2.1.post1-py3-none-any.whl (18 kB)\n",
            "Requirement already satisfied: click in /usr/local/lib/python3.10/dist-packages (from geomet<0.3,>=0.1->cassandra-driver) (8.1.3)\n",
            "Installing collected packages: geomet, cassandra-driver\n",
            "Successfully installed cassandra-driver-3.28.0 geomet-0.2.1.post1\n"
          ]
        }
      ]
    },
    {
      "cell_type": "code",
      "source": [
        "import cassandra\n",
        "print(cassandra.__version__)"
      ],
      "metadata": {
        "colab": {
          "base_uri": "https://localhost:8080/"
        },
        "id": "GbY4pvQwbQXQ",
        "outputId": "d77a8d45-66a1-444d-b0e2-5b01c6c34955"
      },
      "execution_count": 2,
      "outputs": [
        {
          "output_type": "stream",
          "name": "stdout",
          "text": [
            "3.28.0\n"
          ]
        }
      ]
    },
    {
      "cell_type": "code",
      "source": [
        "from cassandra.cluster import Cluster\n",
        "from cassandra.auth import PlainTextAuthProvider\n",
        "\n",
        "cloud_config= {\n",
        "  'secure_connect_bundle': '/content/secure-connect-projectcassandra.zip'\n",
        "}\n",
        "auth_provider = PlainTextAuthProvider('LUATCfkXsPcfnsMJZkTjBxJe', 'ZWjZJUnj7,FpOA9R5kX,hwRmOpxaUxZL0qTPooeqK_yy2fxO_bA-WUvZRc0GXmC6K9MZZsvbQ8OXMSZ3,-WKNrH8ZpXc091WEeuqXLyuFto2j3n6SwMpaDlxQsE.LchA')\n",
        "cluster = Cluster(cloud=cloud_config, auth_provider=auth_provider)\n",
        "session = cluster.connect(\"dbacassandra\")\n",
        "\n"
      ],
      "metadata": {
        "colab": {
          "base_uri": "https://localhost:8080/"
        },
        "id": "FvcG_qSObci-",
        "outputId": "4feb3051-fda9-4c1c-b968-411fd5135175"
      },
      "execution_count": 3,
      "outputs": [
        {
          "output_type": "stream",
          "name": "stderr",
          "text": [
            "WARNING:cassandra.cluster:Downgrading core protocol version from 66 to 65 for 4b0d5792-571a-439f-a322-58572054bc1a-us-east1.db.astra.datastax.com:29042:f42393f9-3b98-4f75-bd5a-335b9ef4d720. To avoid this, it is best practice to explicitly set Cluster(protocol_version) to the version supported by your cluster. http://datastax.github.io/python-driver/api/cassandra/cluster.html#cassandra.cluster.Cluster.protocol_version\n",
            "WARNING:cassandra.cluster:Downgrading core protocol version from 65 to 5 for 4b0d5792-571a-439f-a322-58572054bc1a-us-east1.db.astra.datastax.com:29042:f42393f9-3b98-4f75-bd5a-335b9ef4d720. To avoid this, it is best practice to explicitly set Cluster(protocol_version) to the version supported by your cluster. http://datastax.github.io/python-driver/api/cassandra/cluster.html#cassandra.cluster.Cluster.protocol_version\n",
            "ERROR:cassandra.connection:Closing connection <AsyncoreConnection(139725499616176) 4b0d5792-571a-439f-a322-58572054bc1a-us-east1.db.astra.datastax.com:29042:f42393f9-3b98-4f75-bd5a-335b9ef4d720> due to protocol error: Error from server: code=000a [Protocol error] message=\"Beta version of the protocol used (5/v5-beta), but USE_BETA flag is unset\"\n",
            "WARNING:cassandra.cluster:Downgrading core protocol version from 5 to 4 for 4b0d5792-571a-439f-a322-58572054bc1a-us-east1.db.astra.datastax.com:29042:f42393f9-3b98-4f75-bd5a-335b9ef4d720. To avoid this, it is best practice to explicitly set Cluster(protocol_version) to the version supported by your cluster. http://datastax.github.io/python-driver/api/cassandra/cluster.html#cassandra.cluster.Cluster.protocol_version\n"
          ]
        }
      ]
    },
    {
      "cell_type": "markdown",
      "source": [
        "## Ingreso de datos a la base de datos.\n",
        "En los siguientes bloques de código, utilizamos los comandos para insertar los datos de nuestro csv a la base de datos. Primero creamos la tabla con las columnas que definimos y luego exportamos los datos a la base de datos, gracias a la conexión que tenemos con el servicio de AstraDB."
      ],
      "metadata": {
        "id": "ziiEg-M7fvZv"
      }
    },
    {
      "cell_type": "code",
      "source": [
        "import csv\n",
        "query = \"\"\"\n",
        "    CREATE TABLE IF NOT EXISTS dbinscripciones (\n",
        "        nombre text,\n",
        "        cedula text,\n",
        "        genero text,\n",
        "        edad int,\n",
        "        correo text,\n",
        "        programa text,\n",
        "        ciudad text,\n",
        "        jornada text,\n",
        "        periodo text,\n",
        "        semestre text,\n",
        "        asignatura_codigo text,\n",
        "        asignatura_nombre text,\n",
        "        docente text,\n",
        "        intensidad_horaria int,\n",
        "        cantidad_estudiantes int,\n",
        "        nota int,\n",
        "        PRIMARY KEY (cedula)\n",
        "       )\n",
        "    \"\"\"\n",
        "session.execute(query)"
      ],
      "metadata": {
        "colab": {
          "base_uri": "https://localhost:8080/"
        },
        "id": "WgekGaQc7d9Y",
        "outputId": "2107ccf8-661f-410b-ced3-f07f603aad91"
      },
      "execution_count": 4,
      "outputs": [
        {
          "output_type": "execute_result",
          "data": {
            "text/plain": [
              "<cassandra.cluster.ResultSet at 0x7f14603ad180>"
            ]
          },
          "metadata": {},
          "execution_count": 4
        }
      ]
    },
    {
      "cell_type": "code",
      "source": [
        "with open('/content/initial.csv', 'r') as csv_file:\n",
        "    csv_reader = csv.reader(csv_file)\n",
        "    for row in csv_reader:\n",
        "      query = \"\"\"\n",
        "          INSERT INTO dbinscripciones (\n",
        "              nombre, cedula, genero, edad, correo, programa, ciudad,\n",
        "              jornada, periodo, semestre, asignatura_codigo, asignatura_nombre,\n",
        "              docente, intensidad_horaria, cantidad_estudiantes, nota\n",
        "          )\n",
        "          VALUES (%s, %s, %s, %s, %s, %s, %s, %s, %s, %s, %s, %s, %s, %s, %s, %s)\n",
        "      \"\"\"\n",
        "      session.execute(query, (\n",
        "          row[0], row[1], row[2], int(row[3]), row[4], row[5], row[6],\n",
        "          row[7], row[8], row[9], row[10], row[11], row[12], int(row[13]),\n",
        "          int(row[14]), int(row[15])\n",
        "      ))\n"
      ],
      "metadata": {
        "id": "5tIy12m7BCI0"
      },
      "execution_count": 12,
      "outputs": []
    },
    {
      "cell_type": "markdown",
      "source": [
        "## Consulta de los datos\n",
        "También utilizando la conexión con AstraDB, podemos ejecutar consultas. En los siguientes bloques de código realizamos una consulta de todos los datos, y los almacenamos con las herramientas de numpy y visualizamos con un dataframe de pandas que nos facilita python."
      ],
      "metadata": {
        "id": "7p6HBmKMgyWd"
      }
    },
    {
      "cell_type": "code",
      "source": [
        "rows=session.execute(\" SELECT * FROM dbinscripciones\")"
      ],
      "metadata": {
        "id": "QIcEaBlfCbeG"
      },
      "execution_count": 13,
      "outputs": []
    },
    {
      "cell_type": "code",
      "source": [
        "import numpy as np\n",
        "\n",
        "rows = session.execute(\" SELECT * FROM dbacassandra.dbinscripciones\")\n",
        "\n",
        "nombre=[]\n",
        "cedula=[]\n",
        "genero=[]\n",
        "edad=[]\n",
        "correo=[]\n",
        "programa=[]\n",
        "ciudad=[]\n",
        "jornada=[]\n",
        "periodo=[]\n",
        "semestre=[]\n",
        "asignatura_codigo=[]\n",
        "asignatura_nombre=[]\n",
        "docente=[]\n",
        "intensidad_horaria=[]\n",
        "cantidad_estudiantes=[]\n",
        "nota=[]\n",
        "\n",
        "\n",
        "for row in rows:\n",
        "    nombre.append(row.nombre)\n",
        "    cedula.append(row.cedula)\n",
        "    genero.append(row.genero)\n",
        "    edad.append(row.edad)\n",
        "    correo.append(row.correo)\n",
        "    programa.append(row.programa)\n",
        "    ciudad.append(row.ciudad)\n",
        "    jornada.append(row.jornada)\n",
        "    periodo.append(row.periodo)\n",
        "    semestre.append(row.semestre)\n",
        "    asignatura_codigo.append(row.asignatura_codigo)\n",
        "    asignatura_nombre.append(row.asignatura_nombre)\n",
        "    docente.append(row.docente)\n",
        "    intensidad_horaria.append(row.intensidad_horaria)\n",
        "    cantidad_estudiantes.append(row.cantidad_estudiantes)\n",
        "    nota.append(row.nota)\n",
        "    \n",
        "    \n",
        "    \n",
        "    \n",
        "table_data = np.column_stack((nombre, cedula, genero, edad, correo, programa, ciudad, jornada, periodo, semestre, asignatura_codigo, asignatura_nombre, docente, intensidad_horaria, cantidad_estudiantes, nota))\n",
        "\n"
      ],
      "metadata": {
        "id": "915HHZrLcNyn"
      },
      "execution_count": 16,
      "outputs": []
    },
    {
      "cell_type": "code",
      "source": [
        "import pandas as pd\n",
        "df = pd.DataFrame(table_data, columns=[\"nombre\", \"cedula\", \"genero\", \"edad\", \"correo\", \"programa\", \"ciudad\", \"jornada\", \"periodo\", \"semestre\", \"asignatura_codigo\", \"asignatura_nombre\", \"docente\", \"intensidad_horaria\", \"cantidad_estudiantes\", \"nota\"])\n",
        "\n",
        "display(df)"
      ],
      "metadata": {
        "colab": {
          "base_uri": "https://localhost:8080/",
          "height": 1000
        },
        "id": "cT4G9zD8gdmd",
        "outputId": "d9545396-c754-4ef9-c2c2-85fad413746c"
      },
      "execution_count": 22,
      "outputs": [
        {
          "output_type": "display_data",
          "data": {
            "text/plain": [
              "                               nombre      cedula     genero edad  \\\n",
              "0                Rojas Santos Vanessa  1028860023   Femenino   18   \n",
              "1         Gomez Castro Monica Tatiana  1024472199   Femenino   35   \n",
              "2    Gutierrez Rodriguez Luisa Dayana  1072188820   Femenino   17   \n",
              "3               Niño Matallana Samuel  1019985521  Masculino   17   \n",
              "4     Rodriguez Castro Ailin Gabriela  1028861076   Femenino   16   \n",
              "..                                ...         ...        ...  ...   \n",
              "499  Rivera Martinez Candelaria Maria    32890530   Femenino   44   \n",
              "500     Orduña Barrero Yuly Stephania  1023367211   Femenino   18   \n",
              "501       Molano Perez Jeimmy Tatiana  1069745083   Femenino   29   \n",
              "502                Jaime Peña Mariana  1003510206   Femenino   20   \n",
              "503      Salazar Agudelo Zara Julitza  1016947161   Femenino   17   \n",
              "\n",
              "                         correo                                    programa  \\\n",
              "0         vrojass222@cen.edu.co    AUXILIAR EN CLINICA VETERINARIA - Diurna   \n",
              "1        mtgomezc231@cen.edu.co  AUXILIAR EN CLINICA VETERINARIA - Sabatina   \n",
              "2    ldgutierrezr222@cen.edu.co    AUXILIAR EN CLINICA VETERINARIA - Diurna   \n",
              "3          sninom221@cen.edu.co             AUXILIAR EN ENFERMERIA - Diurna   \n",
              "4    agrodriguezc231@cen.edu.co    AUXILIAR EN CLINICA VETERINARIA - Diurna   \n",
              "..                          ...                                         ...   \n",
              "499     cmriveram231@cen.edu.co           AUXILIAR EN ENFERMERIA - Sabatina   \n",
              "500     ysordunab222@cen.edu.co  AUXILIAR EN CLINICA VETERINARIA - Nocturna   \n",
              "501     jtmolanop221@cen.edu.co    AUXILIAR EN CLINICA VETERINARIA - Diurna   \n",
              "502       mjaimep231@cen.edu.co    AUXILIAR EN CLINICA VETERINARIA - Diurna   \n",
              "503    zjsalazara231@cen.edu.co    AUXILIAR EN CLINICA VETERINARIA - Diurna   \n",
              "\n",
              "     ciudad   jornada periodo    semestre  \\\n",
              "0     Funza    Diurna  2023-1  2 Semestre   \n",
              "1    Bogotá  Sabatina  2023-1  1 Semestre   \n",
              "2    Bogotá    Diurna  2023-1  2 Semestre   \n",
              "3     Funza    Diurna  2023-1  3 Semestre   \n",
              "4     Funza    Diurna  2023-1  1 Semestre   \n",
              "..      ...       ...     ...         ...   \n",
              "499   Funza  Sabatina  2023-1  1 Semestre   \n",
              "500  Bogotá  Nocturna  2023-1  2 Semestre   \n",
              "501  Bogotá    Diurna  2023-1  2 Semestre   \n",
              "502   Funza    Diurna  2023-1  1 Semestre   \n",
              "503   Funza    Diurna  2023-1  1 Semestre   \n",
              "\n",
              "                           asignatura_codigo  \\\n",
              "0            ANIMALES DE PRODUCCION - Diurna   \n",
              "1            ANIMALES DE COMPAÑIA - Sabatina   \n",
              "2            ANIMALES DE PRODUCCION - Diurna   \n",
              "3    ADMINISTRACION DE MEDICAMENTOS - Diurna   \n",
              "4              ANIMALES DE COMPAÑIA - Diurna   \n",
              "..                                       ...   \n",
              "499                  ADULTO MAYOR - Sabatina   \n",
              "500        ANIMALES DE PRODUCCION - Nocturna   \n",
              "501          ANIMALES DE PRODUCCION - Diurna   \n",
              "502            ANIMALES DE COMPAÑIA - Diurna   \n",
              "503            ANIMALES DE COMPAÑIA - Diurna   \n",
              "\n",
              "                              asignatura_nombre            docente  \\\n",
              "0    Animales de Producción F1 (Funza) - Diurna  Bernardo Martinez   \n",
              "1            Animales de Compañía S1 - Sabatina     Henry Portilla   \n",
              "2            Animales de Producción A2 - Diurna  Bernardo Martinez   \n",
              "3    Administración de Medicamentos F1 - Diurna     Wilmer Salazar   \n",
              "4      Animales de Compañía F1 (Funza) - Diurna     Henry Portilla   \n",
              "..                                          ...                ...   \n",
              "499                  Adulto Mayor S1 - Sabatina        Mario Puche   \n",
              "500        Animales de Producción B1 - Nocturna  Bernardo Martinez   \n",
              "501          Animales de Producción A2 - Diurna  Bernardo Martinez   \n",
              "502    Animales de Compañía F1 (Funza) - Diurna     Henry Portilla   \n",
              "503    Animales de Compañía F1 (Funza) - Diurna     Henry Portilla   \n",
              "\n",
              "    intensidad_horaria cantidad_estudiantes nota  \n",
              "0                   32                   22   36  \n",
              "1                   32                   48   44  \n",
              "2                   32                   26   27  \n",
              "3                   32                   16   49  \n",
              "4                   32                   38   10  \n",
              "..                 ...                  ...  ...  \n",
              "499                 32                   16   50  \n",
              "500                 32                   35   45  \n",
              "501                 32                   26   41  \n",
              "502                 32                   38   36  \n",
              "503                 32                   38   35  \n",
              "\n",
              "[504 rows x 16 columns]"
            ],
            "text/html": [
              "\n",
              "  <div id=\"df-b7b7f479-0099-4381-b68a-7d93e7f290c3\">\n",
              "    <div class=\"colab-df-container\">\n",
              "      <div>\n",
              "<style scoped>\n",
              "    .dataframe tbody tr th:only-of-type {\n",
              "        vertical-align: middle;\n",
              "    }\n",
              "\n",
              "    .dataframe tbody tr th {\n",
              "        vertical-align: top;\n",
              "    }\n",
              "\n",
              "    .dataframe thead th {\n",
              "        text-align: right;\n",
              "    }\n",
              "</style>\n",
              "<table border=\"1\" class=\"dataframe\">\n",
              "  <thead>\n",
              "    <tr style=\"text-align: right;\">\n",
              "      <th></th>\n",
              "      <th>nombre</th>\n",
              "      <th>cedula</th>\n",
              "      <th>genero</th>\n",
              "      <th>edad</th>\n",
              "      <th>correo</th>\n",
              "      <th>programa</th>\n",
              "      <th>ciudad</th>\n",
              "      <th>jornada</th>\n",
              "      <th>periodo</th>\n",
              "      <th>semestre</th>\n",
              "      <th>asignatura_codigo</th>\n",
              "      <th>asignatura_nombre</th>\n",
              "      <th>docente</th>\n",
              "      <th>intensidad_horaria</th>\n",
              "      <th>cantidad_estudiantes</th>\n",
              "      <th>nota</th>\n",
              "    </tr>\n",
              "  </thead>\n",
              "  <tbody>\n",
              "    <tr>\n",
              "      <th>0</th>\n",
              "      <td>Rojas Santos Vanessa</td>\n",
              "      <td>1028860023</td>\n",
              "      <td>Femenino</td>\n",
              "      <td>18</td>\n",
              "      <td>vrojass222@cen.edu.co</td>\n",
              "      <td>AUXILIAR EN CLINICA VETERINARIA - Diurna</td>\n",
              "      <td>Funza</td>\n",
              "      <td>Diurna</td>\n",
              "      <td>2023-1</td>\n",
              "      <td>2 Semestre</td>\n",
              "      <td>ANIMALES DE PRODUCCION - Diurna</td>\n",
              "      <td>Animales de Producción F1 (Funza) - Diurna</td>\n",
              "      <td>Bernardo Martinez</td>\n",
              "      <td>32</td>\n",
              "      <td>22</td>\n",
              "      <td>36</td>\n",
              "    </tr>\n",
              "    <tr>\n",
              "      <th>1</th>\n",
              "      <td>Gomez Castro Monica Tatiana</td>\n",
              "      <td>1024472199</td>\n",
              "      <td>Femenino</td>\n",
              "      <td>35</td>\n",
              "      <td>mtgomezc231@cen.edu.co</td>\n",
              "      <td>AUXILIAR EN CLINICA VETERINARIA - Sabatina</td>\n",
              "      <td>Bogotá</td>\n",
              "      <td>Sabatina</td>\n",
              "      <td>2023-1</td>\n",
              "      <td>1 Semestre</td>\n",
              "      <td>ANIMALES DE COMPAÑIA - Sabatina</td>\n",
              "      <td>Animales de Compañía S1 - Sabatina</td>\n",
              "      <td>Henry Portilla</td>\n",
              "      <td>32</td>\n",
              "      <td>48</td>\n",
              "      <td>44</td>\n",
              "    </tr>\n",
              "    <tr>\n",
              "      <th>2</th>\n",
              "      <td>Gutierrez Rodriguez Luisa Dayana</td>\n",
              "      <td>1072188820</td>\n",
              "      <td>Femenino</td>\n",
              "      <td>17</td>\n",
              "      <td>ldgutierrezr222@cen.edu.co</td>\n",
              "      <td>AUXILIAR EN CLINICA VETERINARIA - Diurna</td>\n",
              "      <td>Bogotá</td>\n",
              "      <td>Diurna</td>\n",
              "      <td>2023-1</td>\n",
              "      <td>2 Semestre</td>\n",
              "      <td>ANIMALES DE PRODUCCION - Diurna</td>\n",
              "      <td>Animales de Producción A2 - Diurna</td>\n",
              "      <td>Bernardo Martinez</td>\n",
              "      <td>32</td>\n",
              "      <td>26</td>\n",
              "      <td>27</td>\n",
              "    </tr>\n",
              "    <tr>\n",
              "      <th>3</th>\n",
              "      <td>Niño Matallana Samuel</td>\n",
              "      <td>1019985521</td>\n",
              "      <td>Masculino</td>\n",
              "      <td>17</td>\n",
              "      <td>sninom221@cen.edu.co</td>\n",
              "      <td>AUXILIAR EN ENFERMERIA - Diurna</td>\n",
              "      <td>Funza</td>\n",
              "      <td>Diurna</td>\n",
              "      <td>2023-1</td>\n",
              "      <td>3 Semestre</td>\n",
              "      <td>ADMINISTRACION DE MEDICAMENTOS - Diurna</td>\n",
              "      <td>Administración de Medicamentos F1 - Diurna</td>\n",
              "      <td>Wilmer Salazar</td>\n",
              "      <td>32</td>\n",
              "      <td>16</td>\n",
              "      <td>49</td>\n",
              "    </tr>\n",
              "    <tr>\n",
              "      <th>4</th>\n",
              "      <td>Rodriguez Castro Ailin Gabriela</td>\n",
              "      <td>1028861076</td>\n",
              "      <td>Femenino</td>\n",
              "      <td>16</td>\n",
              "      <td>agrodriguezc231@cen.edu.co</td>\n",
              "      <td>AUXILIAR EN CLINICA VETERINARIA - Diurna</td>\n",
              "      <td>Funza</td>\n",
              "      <td>Diurna</td>\n",
              "      <td>2023-1</td>\n",
              "      <td>1 Semestre</td>\n",
              "      <td>ANIMALES DE COMPAÑIA - Diurna</td>\n",
              "      <td>Animales de Compañía F1 (Funza) - Diurna</td>\n",
              "      <td>Henry Portilla</td>\n",
              "      <td>32</td>\n",
              "      <td>38</td>\n",
              "      <td>10</td>\n",
              "    </tr>\n",
              "    <tr>\n",
              "      <th>...</th>\n",
              "      <td>...</td>\n",
              "      <td>...</td>\n",
              "      <td>...</td>\n",
              "      <td>...</td>\n",
              "      <td>...</td>\n",
              "      <td>...</td>\n",
              "      <td>...</td>\n",
              "      <td>...</td>\n",
              "      <td>...</td>\n",
              "      <td>...</td>\n",
              "      <td>...</td>\n",
              "      <td>...</td>\n",
              "      <td>...</td>\n",
              "      <td>...</td>\n",
              "      <td>...</td>\n",
              "      <td>...</td>\n",
              "    </tr>\n",
              "    <tr>\n",
              "      <th>499</th>\n",
              "      <td>Rivera Martinez Candelaria Maria</td>\n",
              "      <td>32890530</td>\n",
              "      <td>Femenino</td>\n",
              "      <td>44</td>\n",
              "      <td>cmriveram231@cen.edu.co</td>\n",
              "      <td>AUXILIAR EN ENFERMERIA - Sabatina</td>\n",
              "      <td>Funza</td>\n",
              "      <td>Sabatina</td>\n",
              "      <td>2023-1</td>\n",
              "      <td>1 Semestre</td>\n",
              "      <td>ADULTO MAYOR - Sabatina</td>\n",
              "      <td>Adulto Mayor S1 - Sabatina</td>\n",
              "      <td>Mario Puche</td>\n",
              "      <td>32</td>\n",
              "      <td>16</td>\n",
              "      <td>50</td>\n",
              "    </tr>\n",
              "    <tr>\n",
              "      <th>500</th>\n",
              "      <td>Orduña Barrero Yuly Stephania</td>\n",
              "      <td>1023367211</td>\n",
              "      <td>Femenino</td>\n",
              "      <td>18</td>\n",
              "      <td>ysordunab222@cen.edu.co</td>\n",
              "      <td>AUXILIAR EN CLINICA VETERINARIA - Nocturna</td>\n",
              "      <td>Bogotá</td>\n",
              "      <td>Nocturna</td>\n",
              "      <td>2023-1</td>\n",
              "      <td>2 Semestre</td>\n",
              "      <td>ANIMALES DE PRODUCCION - Nocturna</td>\n",
              "      <td>Animales de Producción B1 - Nocturna</td>\n",
              "      <td>Bernardo Martinez</td>\n",
              "      <td>32</td>\n",
              "      <td>35</td>\n",
              "      <td>45</td>\n",
              "    </tr>\n",
              "    <tr>\n",
              "      <th>501</th>\n",
              "      <td>Molano Perez Jeimmy Tatiana</td>\n",
              "      <td>1069745083</td>\n",
              "      <td>Femenino</td>\n",
              "      <td>29</td>\n",
              "      <td>jtmolanop221@cen.edu.co</td>\n",
              "      <td>AUXILIAR EN CLINICA VETERINARIA - Diurna</td>\n",
              "      <td>Bogotá</td>\n",
              "      <td>Diurna</td>\n",
              "      <td>2023-1</td>\n",
              "      <td>2 Semestre</td>\n",
              "      <td>ANIMALES DE PRODUCCION - Diurna</td>\n",
              "      <td>Animales de Producción A2 - Diurna</td>\n",
              "      <td>Bernardo Martinez</td>\n",
              "      <td>32</td>\n",
              "      <td>26</td>\n",
              "      <td>41</td>\n",
              "    </tr>\n",
              "    <tr>\n",
              "      <th>502</th>\n",
              "      <td>Jaime Peña Mariana</td>\n",
              "      <td>1003510206</td>\n",
              "      <td>Femenino</td>\n",
              "      <td>20</td>\n",
              "      <td>mjaimep231@cen.edu.co</td>\n",
              "      <td>AUXILIAR EN CLINICA VETERINARIA - Diurna</td>\n",
              "      <td>Funza</td>\n",
              "      <td>Diurna</td>\n",
              "      <td>2023-1</td>\n",
              "      <td>1 Semestre</td>\n",
              "      <td>ANIMALES DE COMPAÑIA - Diurna</td>\n",
              "      <td>Animales de Compañía F1 (Funza) - Diurna</td>\n",
              "      <td>Henry Portilla</td>\n",
              "      <td>32</td>\n",
              "      <td>38</td>\n",
              "      <td>36</td>\n",
              "    </tr>\n",
              "    <tr>\n",
              "      <th>503</th>\n",
              "      <td>Salazar Agudelo Zara Julitza</td>\n",
              "      <td>1016947161</td>\n",
              "      <td>Femenino</td>\n",
              "      <td>17</td>\n",
              "      <td>zjsalazara231@cen.edu.co</td>\n",
              "      <td>AUXILIAR EN CLINICA VETERINARIA - Diurna</td>\n",
              "      <td>Funza</td>\n",
              "      <td>Diurna</td>\n",
              "      <td>2023-1</td>\n",
              "      <td>1 Semestre</td>\n",
              "      <td>ANIMALES DE COMPAÑIA - Diurna</td>\n",
              "      <td>Animales de Compañía F1 (Funza) - Diurna</td>\n",
              "      <td>Henry Portilla</td>\n",
              "      <td>32</td>\n",
              "      <td>38</td>\n",
              "      <td>35</td>\n",
              "    </tr>\n",
              "  </tbody>\n",
              "</table>\n",
              "<p>504 rows × 16 columns</p>\n",
              "</div>\n",
              "      <button class=\"colab-df-convert\" onclick=\"convertToInteractive('df-b7b7f479-0099-4381-b68a-7d93e7f290c3')\"\n",
              "              title=\"Convert this dataframe to an interactive table.\"\n",
              "              style=\"display:none;\">\n",
              "        \n",
              "  <svg xmlns=\"http://www.w3.org/2000/svg\" height=\"24px\"viewBox=\"0 0 24 24\"\n",
              "       width=\"24px\">\n",
              "    <path d=\"M0 0h24v24H0V0z\" fill=\"none\"/>\n",
              "    <path d=\"M18.56 5.44l.94 2.06.94-2.06 2.06-.94-2.06-.94-.94-2.06-.94 2.06-2.06.94zm-11 1L8.5 8.5l.94-2.06 2.06-.94-2.06-.94L8.5 2.5l-.94 2.06-2.06.94zm10 10l.94 2.06.94-2.06 2.06-.94-2.06-.94-.94-2.06-.94 2.06-2.06.94z\"/><path d=\"M17.41 7.96l-1.37-1.37c-.4-.4-.92-.59-1.43-.59-.52 0-1.04.2-1.43.59L10.3 9.45l-7.72 7.72c-.78.78-.78 2.05 0 2.83L4 21.41c.39.39.9.59 1.41.59.51 0 1.02-.2 1.41-.59l7.78-7.78 2.81-2.81c.8-.78.8-2.07 0-2.86zM5.41 20L4 18.59l7.72-7.72 1.47 1.35L5.41 20z\"/>\n",
              "  </svg>\n",
              "      </button>\n",
              "      \n",
              "  <style>\n",
              "    .colab-df-container {\n",
              "      display:flex;\n",
              "      flex-wrap:wrap;\n",
              "      gap: 12px;\n",
              "    }\n",
              "\n",
              "    .colab-df-convert {\n",
              "      background-color: #E8F0FE;\n",
              "      border: none;\n",
              "      border-radius: 50%;\n",
              "      cursor: pointer;\n",
              "      display: none;\n",
              "      fill: #1967D2;\n",
              "      height: 32px;\n",
              "      padding: 0 0 0 0;\n",
              "      width: 32px;\n",
              "    }\n",
              "\n",
              "    .colab-df-convert:hover {\n",
              "      background-color: #E2EBFA;\n",
              "      box-shadow: 0px 1px 2px rgba(60, 64, 67, 0.3), 0px 1px 3px 1px rgba(60, 64, 67, 0.15);\n",
              "      fill: #174EA6;\n",
              "    }\n",
              "\n",
              "    [theme=dark] .colab-df-convert {\n",
              "      background-color: #3B4455;\n",
              "      fill: #D2E3FC;\n",
              "    }\n",
              "\n",
              "    [theme=dark] .colab-df-convert:hover {\n",
              "      background-color: #434B5C;\n",
              "      box-shadow: 0px 1px 3px 1px rgba(0, 0, 0, 0.15);\n",
              "      filter: drop-shadow(0px 1px 2px rgba(0, 0, 0, 0.3));\n",
              "      fill: #FFFFFF;\n",
              "    }\n",
              "  </style>\n",
              "\n",
              "      <script>\n",
              "        const buttonEl =\n",
              "          document.querySelector('#df-b7b7f479-0099-4381-b68a-7d93e7f290c3 button.colab-df-convert');\n",
              "        buttonEl.style.display =\n",
              "          google.colab.kernel.accessAllowed ? 'block' : 'none';\n",
              "\n",
              "        async function convertToInteractive(key) {\n",
              "          const element = document.querySelector('#df-b7b7f479-0099-4381-b68a-7d93e7f290c3');\n",
              "          const dataTable =\n",
              "            await google.colab.kernel.invokeFunction('convertToInteractive',\n",
              "                                                     [key], {});\n",
              "          if (!dataTable) return;\n",
              "\n",
              "          const docLinkHtml = 'Like what you see? Visit the ' +\n",
              "            '<a target=\"_blank\" href=https://colab.research.google.com/notebooks/data_table.ipynb>data table notebook</a>'\n",
              "            + ' to learn more about interactive tables.';\n",
              "          element.innerHTML = '';\n",
              "          dataTable['output_type'] = 'display_data';\n",
              "          await google.colab.output.renderOutput(dataTable, element);\n",
              "          const docLink = document.createElement('div');\n",
              "          docLink.innerHTML = docLinkHtml;\n",
              "          element.appendChild(docLink);\n",
              "        }\n",
              "      </script>\n",
              "    </div>\n",
              "  </div>\n",
              "  "
            ]
          },
          "metadata": {}
        }
      ]
    },
    {
      "cell_type": "markdown",
      "source": [
        "# SPARK"
      ],
      "metadata": {
        "id": "1cJkpnKvhVkc"
      }
    },
    {
      "cell_type": "markdown",
      "source": [
        "## Instalación y configuración\n",
        "Para la consulta de datos, utilizamos pyspark que nos facilita el uso de map reduce y otras herramientas de manejo de datos.\n",
        "Primero hacemos la instalación e importación, y luego se conecta con la base de datos de AstraDB, que nos deja utilizar una sesión y nos importa los datos como un dataframe, con el cual podemos utilizar las funciones de spark para definir nuestras consultas."
      ],
      "metadata": {
        "id": "BVXuT9XshchK"
      }
    },
    {
      "cell_type": "code",
      "source": [
        "!pip install pyspark\n"
      ],
      "metadata": {
        "colab": {
          "base_uri": "https://localhost:8080/"
        },
        "id": "WDZKoc9vYpe7",
        "outputId": "2b9596b8-4cd2-44e0-84bb-0ac51bca000d"
      },
      "execution_count": 18,
      "outputs": [
        {
          "output_type": "stream",
          "name": "stdout",
          "text": [
            "Looking in indexes: https://pypi.org/simple, https://us-python.pkg.dev/colab-wheels/public/simple/\n",
            "Collecting pyspark\n",
            "  Downloading pyspark-3.4.0.tar.gz (310.8 MB)\n",
            "\u001b[2K     \u001b[90m━━━━━━━━━━━━━━━━━━━━━━━━━━━━━━━━━━━━━━━\u001b[0m \u001b[32m310.8/310.8 MB\u001b[0m \u001b[31m4.7 MB/s\u001b[0m eta \u001b[36m0:00:00\u001b[0m\n",
            "\u001b[?25h  Preparing metadata (setup.py) ... \u001b[?25l\u001b[?25hdone\n",
            "Requirement already satisfied: py4j==0.10.9.7 in /usr/local/lib/python3.10/dist-packages (from pyspark) (0.10.9.7)\n",
            "Building wheels for collected packages: pyspark\n",
            "  Building wheel for pyspark (setup.py) ... \u001b[?25l\u001b[?25hdone\n",
            "  Created wheel for pyspark: filename=pyspark-3.4.0-py2.py3-none-any.whl size=311317130 sha256=803bd7650a95fad7dd5f0802c5d771397e944081a44581eaaa9710b5f91e7adc\n",
            "  Stored in directory: /root/.cache/pip/wheels/7b/1b/4b/3363a1d04368e7ff0d408e57ff57966fcdf00583774e761327\n",
            "Successfully built pyspark\n",
            "Installing collected packages: pyspark\n",
            "Successfully installed pyspark-3.4.0\n"
          ]
        }
      ]
    },
    {
      "cell_type": "code",
      "source": [
        "from pyspark.sql import SparkSession\n",
        "\n",
        "# Crear una instancia de SparkSession con la dependencia del conector Cassandra\n",
        "spark = SparkSession.builder \\\n",
        "    .appName(\"MyApp\") \\\n",
        "    .config(\"spark.jars\", \"/content/spark-cassandra-connector_2.12-3.3.0.jar\") \\\n",
        "    .config(\"spark.cassandra.connection.config.cloud.path\", \"/content/secure-connect-projectcassandra.zip\") \\\n",
        "    .config(\"spark.cassandra.auth.username\", \"LUATCfkXsPcfnsMJZkTjBxJe\") \\\n",
        "    .config(\"spark.cassandra.auth.password\", \"ZWjZJUnj7,FpOA9R5kX,hwRmOpxaUxZL0qTPooeqK_yy2fxO_bA-WUvZRc0GXmC6K9MZZsvbQ8OXMSZ3,-WKNrH8ZpXc091WEeuqXLyuFto2j3n6SwMpaDlxQsE.LchA\") \\\n",
        "    .config(\"spark.cassandra.connection.config.cloud.name\", \"projectcassandra\") \\\n",
        "    .getOrCreate()\n",
        "\n",
        "# Cargar datos de Cassandra en un DataFrame\n",
        "\n",
        "spark=SparkSession.builder.getOrCreate()\n",
        "df_spark= spark.createDataFrame(df)\n",
        "\n",
        "\n",
        "# Mostrar el DataFrame\n",
        "df_spark.show()\n"
      ],
      "metadata": {
        "colab": {
          "base_uri": "https://localhost:8080/"
        },
        "id": "EdIOj-sOlY7r",
        "outputId": "50c593e4-35d1-4020-a919-65496f208b90"
      },
      "execution_count": 23,
      "outputs": [
        {
          "output_type": "stream",
          "name": "stdout",
          "text": [
            "+--------------------+----------+---------+----+--------------------+--------------------+------+--------+-------+----------+--------------------+--------------------+-----------------+------------------+--------------------+----+\n",
            "|              nombre|    cedula|   genero|edad|              correo|            programa|ciudad| jornada|periodo|  semestre|   asignatura_codigo|   asignatura_nombre|          docente|intensidad_horaria|cantidad_estudiantes|nota|\n",
            "+--------------------+----------+---------+----+--------------------+--------------------+------+--------+-------+----------+--------------------+--------------------+-----------------+------------------+--------------------+----+\n",
            "|Rojas Santos Vanessa|1028860023| Femenino|  18|vrojass222@cen.ed...|AUXILIAR EN CLINI...| Funza|  Diurna| 2023-1|2 Semestre|ANIMALES DE PRODU...|Animales de Produ...|Bernardo Martinez|                32|                  22|  36|\n",
            "|Gomez Castro Moni...|1024472199| Femenino|  35|mtgomezc231@cen.e...|AUXILIAR EN CLINI...|Bogotá|Sabatina| 2023-1|1 Semestre|ANIMALES DE COMPA...|Animales de Compa...|   Henry Portilla|                32|                  48|  44|\n",
            "|Gutierrez Rodrigu...|1072188820| Femenino|  17|ldgutierrezr222@c...|AUXILIAR EN CLINI...|Bogotá|  Diurna| 2023-1|2 Semestre|ANIMALES DE PRODU...|Animales de Produ...|Bernardo Martinez|                32|                  26|  27|\n",
            "|Niño Matallana Sa...|1019985521|Masculino|  17|sninom221@cen.edu.co|AUXILIAR EN ENFER...| Funza|  Diurna| 2023-1|3 Semestre|ADMINISTRACION DE...|Administración de...|   Wilmer Salazar|                32|                  16|  49|\n",
            "|Rodriguez Castro ...|1028861076| Femenino|  16|agrodriguezc231@c...|AUXILIAR EN CLINI...| Funza|  Diurna| 2023-1|1 Semestre|ANIMALES DE COMPA...|Animales de Compa...|   Henry Portilla|                32|                  38|  10|\n",
            "|Ruiz Ramirez Laur...|1073250268| Femenino|  24|laramirezr222@cen...|AUXILIAR EN CLINI...|Bogotá|Sabatina| 2023-1|2 Semestre| ANATOMIA - Sabatina|Anatomía S1 - Sab...|  Sergio Gonzalez|                64|                  33|  32|\n",
            "|Sarmiento Ramirez...|1021665511| Femenino|  18|jvsarmientor222@c...|AUXILIAR EN CLINI...|Bogotá|  Diurna| 2023-1|2 Semestre|ANIMALES DE PRODU...|Animales de Produ...|Bernardo Martinez|                32|                  20|  29|\n",
            "|Pinilla Morales L...|1000615338| Femenino|  21|lfpinillam222@cen...|AUXILIAR EN CLINI...|Bogotá|  Diurna| 2023-1|2 Semestre|ANIMALES DE PRODU...|Animales de Produ...|Bernardo Martinez|                32|                  25|  22|\n",
            "|Amaya Sarmiento I...|1034659384| Femenino|  17|inamayas231@cen.e...|AUXILIAR EN CLINI...|Bogotá|  Diurna| 2023-1|1 Semestre|ANIMALES DE COMPA...|Animales de Compa...|   Henry Portilla|                32|                  22|  37|\n",
            "|Salamanca Paez Ma...|1022992929| Femenino|  29|mjsalamancap231@c...|AUXILIAR EN CLINI...|Bogotá|Sabatina| 2023-1|1 Semestre|ANIMALES DE COMPA...|Animales de Compa...|   Henry Portilla|                32|                  48|  10|\n",
            "|Moreno Bernal And...|1014658791|Masculino|  18|admorenob221@cen....|INVESTIGADOR CRIM...|Bogotá|  Diurna| 2023-1|3 Semestre|ANÁLISIS DE LA EV...|Análisis de la Ev...|      Diana Puche|                64|                  13|  50|\n",
            "|Garzon Sarmiento ...|1003577978|Masculino|  20|nfgarzons222@cen....|AUXILIAR EN CLINI...|Bogotá|Sabatina| 2023-1|2 Semestre| ANATOMIA - Sabatina|Anatomía S1 - Sab...|  Sergio Gonzalez|                64|                  33|  21|\n",
            "|Albarran Martínez...|1011081629| Femenino|  18|jsalbarranm222@ce...|AUXILIAR EN CLINI...|Bogotá|Sabatina| 2023-1|2 Semestre|ANIMALES DE PRODU...|Animales de Produ...|Bernardo Martinez|                32|                  34|  25|\n",
            "|Cortes Moreno Kat...|1016942444| Femenino|  19|kcortesm222@cen.e...|AUXILIAR EN CLINI...|Bogotá|  Diurna| 2023-1|2 Semestre|ANIMALES DE PRODU...|Animales de Produ...|Bernardo Martinez|                32|                  25|  31|\n",
            "|Valderrama Carden...|  52018791| Femenino|  53|lvalderramac212@c...|AUXILIAR EN CLINI...|Bogotá|Sabatina| 2023-1|2 Semestre| ANATOMIA - Sabatina|Anatomía S1 - Sab...|  Sergio Gonzalez|                64|                  33|  46|\n",
            "|Perdomo Triana Ya...|1004268786| Femenino|  22|YYPERDOMOT231@CEN...|INVESTIGADOR CRIM...|Bogotá|Nocturna| 2023-1|1 Semestre|ANATOMÍA FORENSE ...|Anatomía Forense ...|      Angie Silva|                32|                  17|  37|\n",
            "|Farfan Rueda Jose...|1121339000|Masculino|  22|jafarfanr231@cen....|INVESTIGADOR CRIM...|Bogotá|  Diurna| 2023-1|1 Semestre|ANATOMÍA FORENSE ...|Anatomía Forense ...|      Angie Silva|                32|                  17|  46|\n",
            "|Lugo Gomez Leidy ...|1023981152| Femenino|  24|ldlugog221@cen.ed...|AUXILIAR EN CLINI...|Bogotá|  Diurna| 2023-1|2 Semestre|ANIMALES DE PRODU...|Animales de Produ...|Bernardo Martinez|                32|                  25|  28|\n",
            "|Daza Daza Karina ...|1000383028| Femenino|  21|kvdazad222@cen.ed...|AUXILIAR EN CLINI...|Bogotá|Nocturna| 2023-1|2 Semestre|ANIMALES DE PRODU...|Animales de Produ...|Bernardo Martinez|                32|                  35|  30|\n",
            "|Rodriguez Monsalv...|1025526663|Masculino|  17|lnrodriguezm221@c...|INVESTIGADOR CRIM...|Bogotá|  Diurna| 2023-1|3 Semestre|ANÁLISIS DE LA EV...|Análisis de la Ev...|      Diana Puche|                64|                  13|  10|\n",
            "+--------------------+----------+---------+----+--------------------+--------------------+------+--------+-------+----------+--------------------+--------------------+-----------------+------------------+--------------------+----+\n",
            "only showing top 20 rows\n",
            "\n"
          ]
        }
      ]
    },
    {
      "cell_type": "code",
      "source": [
        "from pyspark.sql.functions import col, sum, avg\n",
        "df_spark=df_spark.withColumn(\"intensidad_horaria\",col(\"intensidad_horaria\").cast(\"integer\"))"
      ],
      "metadata": {
        "id": "cQB6NrOwaMKG"
      },
      "execution_count": 97,
      "outputs": []
    },
    {
      "cell_type": "markdown",
      "source": [
        "## Consultas\n",
        "A continuación definimos unas consultas con las cuales mostramos la utilización de spark."
      ],
      "metadata": {
        "id": "3_z6fgHYiCCs"
      }
    },
    {
      "cell_type": "markdown",
      "source": [
        "### Tipo de jornada por programa"
      ],
      "metadata": {
        "id": "wY6uYjoJjKTK"
      }
    },
    {
      "cell_type": "code",
      "source": [
        "from pyspark.sql.functions import collect_set\n",
        "reqProgram= df_spark.groupBy('programa').agg(collect_set(\"jornada\").alias(\"jornadas\"))"
      ],
      "metadata": {
        "id": "fYbUGrb9Jx4w"
      },
      "execution_count": 98,
      "outputs": []
    },
    {
      "cell_type": "code",
      "source": [
        "reqProgram.show(truncate=False)"
      ],
      "metadata": {
        "colab": {
          "base_uri": "https://localhost:8080/"
        },
        "id": "mb1SmM6fKoNZ",
        "outputId": "c3716640-e082-4062-c772-0bc0b77d222c"
      },
      "execution_count": 99,
      "outputs": [
        {
          "output_type": "stream",
          "name": "stdout",
          "text": [
            "+-------------------------------------------------+----------+\n",
            "|programa                                         |jornadas  |\n",
            "+-------------------------------------------------+----------+\n",
            "|AUXILIAR EN ENFERMERIA - Sabatina                |[Sabatina]|\n",
            "|INVESTIGADOR CRIMINALÍSTICO Y JUDICIAL - Nocturna|[Nocturna]|\n",
            "|AUXILIAR EN CLINICA VETERINARIA - Sabatina       |[Sabatina]|\n",
            "|AUXILIAR EN ENFERMERIA - Diurna                  |[Diurna]  |\n",
            "|AUXILIAR EN CLINICA VETERINARIA - Nocturna       |[Nocturna]|\n",
            "|AUXILIAR EN CLINICA VETERINARIA - Diurna         |[Diurna]  |\n",
            "|INVESTIGADOR CRIMINALÍSTICO Y JUDICIAL - Diurna  |[Diurna]  |\n",
            "+-------------------------------------------------+----------+\n",
            "\n"
          ]
        }
      ]
    },
    {
      "cell_type": "markdown",
      "source": [
        "### Intensidad horaria por Asignatura"
      ],
      "metadata": {
        "id": "HxkoMqRKjPQT"
      }
    },
    {
      "cell_type": "code",
      "source": [
        "resultSum = df_spark.groupBy('asignatura_nombre').agg(avg(col('intensidad_horaria')).alias('Intensidad Horaria'))"
      ],
      "metadata": {
        "id": "cn9vQYfhyERN"
      },
      "execution_count": 112,
      "outputs": []
    },
    {
      "cell_type": "code",
      "source": [
        "resultSum.show(truncate=False)"
      ],
      "metadata": {
        "colab": {
          "base_uri": "https://localhost:8080/"
        },
        "id": "Gttv-Pxh02t8",
        "outputId": "02f1dfab-acb2-43c9-b82b-3a7d34e47b8a"
      },
      "execution_count": 113,
      "outputs": [
        {
          "output_type": "stream",
          "name": "stdout",
          "text": [
            "+--------------------------------------------+------------------+\n",
            "|asignatura_nombre                           |Intensidad Horaria|\n",
            "+--------------------------------------------+------------------+\n",
            "|Animales de Producción F1 (Funza) - Diurna  |32.0              |\n",
            "|Anatomía Forense A2 - Diurna                |32.0              |\n",
            "|Accidentología Vial A1 - Diurna             |64.0              |\n",
            "|Animales de Compañía A2 - Diurna            |32.0              |\n",
            "|Animales de Compañía B1 - Nocturna          |32.0              |\n",
            "|Animales de Producción A2 - Nocturna        |32.0              |\n",
            "|Animales de Producción A3 - Sabatina        |32.0              |\n",
            "|Accidentología Vial F1 (Funza) - Diurna     |64.0              |\n",
            "|Accidentología Vial B1 - Nocturna           |64.0              |\n",
            "|Adulto Mayor F1 - Diurna                    |32.0              |\n",
            "|Animales de Compañía S1 - Sabatina          |32.0              |\n",
            "|Anatomía S1 - Sabatina                      |64.0              |\n",
            "|Adulto Mayor F1 - Sabatina                  |32.0              |\n",
            "|Análisis de la Evidencia A1 - Diurna        |64.0              |\n",
            "|Análisis de la Evidencia F1 (Funza) - Diurna|64.0              |\n",
            "|Anatomía Forense B1 - Nocturna              |32.0              |\n",
            "|Anatomía B1 - Diurna                        |64.0              |\n",
            "|Animales de Producción A2 - Diurna          |32.0              |\n",
            "|Animales de Compañía S1 - Diurna            |32.0              |\n",
            "|Análisis de la Evidencia B1 - Diurna        |64.0              |\n",
            "+--------------------------------------------+------------------+\n",
            "only showing top 20 rows\n",
            "\n"
          ]
        }
      ]
    },
    {
      "cell_type": "markdown",
      "source": [
        "### Intensidad horaria por docente"
      ],
      "metadata": {
        "id": "Xhn46_rHjTs2"
      }
    },
    {
      "cell_type": "code",
      "source": [
        "resultSum2= df_spark.groupBy('docente').agg(avg(col('intensidad_horaria')).alias('suma_intensidad'))\n",
        "resultSum2.show(truncate=False)"
      ],
      "metadata": {
        "colab": {
          "base_uri": "https://localhost:8080/"
        },
        "id": "oj1hth219DjB",
        "outputId": "654d4090-08d5-4c72-8d3c-c639f69a0873"
      },
      "execution_count": 102,
      "outputs": [
        {
          "output_type": "stream",
          "name": "stdout",
          "text": [
            "+-----------------+---------------+\n",
            "|docente          |suma_intensidad|\n",
            "+-----------------+---------------+\n",
            "|Angie Silva      |32.0           |\n",
            "|Mario Puche      |32.0           |\n",
            "|Henry Portilla   |32.0           |\n",
            "|Dazaeth Rojas    |64.0           |\n",
            "|Sergio Gonzalez  |64.0           |\n",
            "|Wilmer Salazar   |32.0           |\n",
            "|Diana Puche      |64.0           |\n",
            "|Bernardo Martinez|32.0           |\n",
            "|Gerson Aldana    |32.0           |\n",
            "+-----------------+---------------+\n",
            "\n"
          ]
        }
      ]
    },
    {
      "cell_type": "markdown",
      "source": [
        "### Suma de intensidades horarias "
      ],
      "metadata": {
        "id": "Jc-wk4sBjYOk"
      }
    },
    {
      "cell_type": "code",
      "source": [
        "resultTotal=df_spark.groupBy().sum('intensidad_horaria')\n",
        "resultTotal.show()"
      ],
      "metadata": {
        "colab": {
          "base_uri": "https://localhost:8080/"
        },
        "id": "W0PYj8Z-ZoIQ",
        "outputId": "eee45ad0-ffa4-401a-e136-207889abfff9"
      },
      "execution_count": 108,
      "outputs": [
        {
          "output_type": "stream",
          "name": "stdout",
          "text": [
            "+-----------------------+\n",
            "|sum(intensidad_horaria)|\n",
            "+-----------------------+\n",
            "|                  18912|\n",
            "+-----------------------+\n",
            "\n"
          ]
        }
      ]
    },
    {
      "cell_type": "markdown",
      "source": [
        "### Promedio de intensidad horaria por programa"
      ],
      "metadata": {
        "id": "2nezM1Dqjchs"
      }
    },
    {
      "cell_type": "code",
      "source": [
        "resultSum3= df_spark.groupBy('programa').agg(avg(col('intensidad_horaria')).alias('promedio_intensidad'))\n",
        "resultSum3.show(truncate=False)"
      ],
      "metadata": {
        "colab": {
          "base_uri": "https://localhost:8080/"
        },
        "id": "vkDEV_wH99wR",
        "outputId": "e27c8eca-24d4-47de-83db-819d1ff9861f"
      },
      "execution_count": 109,
      "outputs": [
        {
          "output_type": "stream",
          "name": "stdout",
          "text": [
            "+-------------------------------------------------+-------------------+\n",
            "|programa                                         |promedio_intensidad|\n",
            "+-------------------------------------------------+-------------------+\n",
            "|AUXILIAR EN ENFERMERIA - Sabatina                |32.0               |\n",
            "|INVESTIGADOR CRIMINALÍSTICO Y JUDICIAL - Nocturna|48.0               |\n",
            "|AUXILIAR EN CLINICA VETERINARIA - Sabatina       |43.45679012345679  |\n",
            "|AUXILIAR EN ENFERMERIA - Diurna                  |32.0               |\n",
            "|AUXILIAR EN CLINICA VETERINARIA - Nocturna       |32.0               |\n",
            "|AUXILIAR EN CLINICA VETERINARIA - Diurna         |32.15686274509804  |\n",
            "|INVESTIGADOR CRIMINALÍSTICO Y JUDICIAL - Diurna  |51.111111111111114 |\n",
            "+-------------------------------------------------+-------------------+\n",
            "\n"
          ]
        }
      ]
    },
    {
      "cell_type": "markdown",
      "source": [
        "### Notas de los estudiantes"
      ],
      "metadata": {
        "id": "rIaWZYgKjdo2"
      }
    },
    {
      "cell_type": "code",
      "source": [
        "resultNotas = df_spark.select(\"nombre\", \"cedula\", \"asignatura_nombre\", \"nota\")\n",
        "resultNotas.show(truncate=False)"
      ],
      "metadata": {
        "colab": {
          "base_uri": "https://localhost:8080/"
        },
        "id": "sV9yZwqlMRfi",
        "outputId": "b3830116-388e-4039-f1bc-75eb312680d2"
      },
      "execution_count": 111,
      "outputs": [
        {
          "output_type": "stream",
          "name": "stdout",
          "text": [
            "+----------------------------------+----------+------------------------------------------+----+\n",
            "|nombre                            |cedula    |asignatura_nombre                         |nota|\n",
            "+----------------------------------+----------+------------------------------------------+----+\n",
            "|Rojas Santos Vanessa              |1028860023|Animales de Producción F1 (Funza) - Diurna|36  |\n",
            "|Gomez Castro Monica Tatiana       |1024472199|Animales de Compañía S1 - Sabatina        |44  |\n",
            "|Gutierrez Rodriguez Luisa Dayana  |1072188820|Animales de Producción A2 - Diurna        |27  |\n",
            "|Niño Matallana Samuel             |1019985521|Administración de Medicamentos F1 - Diurna|49  |\n",
            "|Rodriguez Castro Ailin Gabriela   |1028861076|Animales de Compañía F1 (Funza) - Diurna  |10  |\n",
            "|Ruiz Ramirez Laura Alexandra      |1073250268|Anatomía S1 - Sabatina                    |32  |\n",
            "|Sarmiento Ramirez Julieth Valeria |1021665511|Animales de Producción A3 - Diurna        |29  |\n",
            "|Pinilla Morales Laura Fernanda    |1000615338|Animales de Producción A1 - Diurna        |22  |\n",
            "|Amaya Sarmiento Ibeth Natalia     |1034659384|Animales de Compañía A2 - Diurna          |37  |\n",
            "|Salamanca Paez Magda Julieth      |1022992929|Animales de Compañía S1 - Sabatina        |10  |\n",
            "|Moreno Bernal Andres David        |1014658791|Análisis de la Evidencia A1 - Diurna      |50  |\n",
            "|Garzon Sarmiento Nelson Fernando  |1003577978|Anatomía S1 - Sabatina                    |21  |\n",
            "|Albarran Martínez Julieth Samantha|1011081629|Animales de Producción S1 - Sabatina      |25  |\n",
            "|Cortes Moreno Katherine           |1016942444|Animales de Producción A1 - Diurna        |31  |\n",
            "|Valderrama Cardenas Lisbet        |52018791  |Anatomía S1 - Sabatina                    |46  |\n",
            "|Perdomo Triana Yaritza Yuliana    |1004268786|Anatomía Forense B1 - Nocturna            |37  |\n",
            "|Farfan Rueda Jose Alfonso         |1121339000|Anatomía Forense B1 - Diurna              |46  |\n",
            "|Lugo Gomez Leidy Dayana           |1023981152|Animales de Producción A1 - Diurna        |28  |\n",
            "|Daza Daza Karina Valeria          |1000383028|Animales de Producción B1 - Nocturna      |30  |\n",
            "|Rodriguez Monsalve Laura Natali   |1025526663|Análisis de la Evidencia A1 - Diurna      |10  |\n",
            "+----------------------------------+----------+------------------------------------------+----+\n",
            "only showing top 20 rows\n",
            "\n"
          ]
        }
      ]
    },
    {
      "cell_type": "markdown",
      "source": [
        "## Map reduce"
      ],
      "metadata": {
        "id": "meSV6tCxZd3g"
      }
    },
    {
      "cell_type": "markdown",
      "source": [
        "### Cantidad de estudiantes por programa\n",
        "\n",
        "Para esta consulta, de cantidad de estudiantes por programa, utilizamos map reduce, donde el número de veces que cuenta cada programa, es el número de inscripciones a ese programa, que a su vez, es el número de estudiantes inscritos:"
      ],
      "metadata": {
        "id": "MI9sXi-9iUiz"
      }
    },
    {
      "cell_type": "code",
      "source": [
        "from operator import add\n",
        "rdd = df_spark.rdd\n",
        "\n",
        "mapped_rdd = rdd.map(lambda row: (row['programa'], 1))\n",
        "counts_rdd = mapped_rdd.reduceByKey(add)\n",
        "results = counts_rdd.collect()\n",
        "for programa, count in results:\n",
        "    print(f\"Programa: {programa}, Cantidad de estudiantes: {count}\")"
      ],
      "metadata": {
        "colab": {
          "base_uri": "https://localhost:8080/"
        },
        "id": "IZ1rkT-aXEVY",
        "outputId": "eaf96675-0674-4a11-8af2-6acc54f011e7"
      },
      "execution_count": 91,
      "outputs": [
        {
          "output_type": "stream",
          "name": "stdout",
          "text": [
            "Programa: AUXILIAR EN CLINICA VETERINARIA - Sabatina, Cantidad de estudiantes: 81\n",
            "Programa: AUXILIAR EN CLINICA VETERINARIA - Nocturna, Cantidad de estudiantes: 67\n",
            "Programa: AUXILIAR EN CLINICA VETERINARIA - Diurna, Cantidad de estudiantes: 204\n",
            "Programa: AUXILIAR EN ENFERMERIA - Diurna, Cantidad de estudiantes: 34\n",
            "Programa: INVESTIGADOR CRIMINALÍSTICO Y JUDICIAL - Diurna, Cantidad de estudiantes: 72\n",
            "Programa: INVESTIGADOR CRIMINALÍSTICO Y JUDICIAL - Nocturna, Cantidad de estudiantes: 28\n",
            "Programa: AUXILIAR EN ENFERMERIA - Sabatina, Cantidad de estudiantes: 18\n"
          ]
        }
      ]
    },
    {
      "cell_type": "markdown",
      "source": [
        "### Cantidad de estudiantes por asignatura\n",
        "\n",
        "Similar a la anterior consulta, en esta utilizamos map reduce para buscar el número de veces que se repite las asignaturas, así para buscar la cantidad de estudiantes inscritos a cada asignatura:"
      ],
      "metadata": {
        "id": "c2wIxHzUinKj"
      }
    },
    {
      "cell_type": "code",
      "source": [
        "mapped_rdd = rdd.map(lambda row: (row['asignatura_nombre'], 1))\n",
        "counts_rdd = mapped_rdd.reduceByKey(add)\n",
        "results = counts_rdd.collect()\n",
        "for asignatura_nombre, count in results:\n",
        "    print(f\"Asignatura: {asignatura_nombre}, Cantidad de estudiantes: {count}\")"
      ],
      "metadata": {
        "colab": {
          "base_uri": "https://localhost:8080/"
        },
        "id": "kZHKVOBWYe6B",
        "outputId": "0e8b0c53-1c95-4fbd-a115-ec2774751719"
      },
      "execution_count": 92,
      "outputs": [
        {
          "output_type": "stream",
          "name": "stdout",
          "text": [
            "Asignatura: Anatomía S1 - Sabatina, Cantidad de estudiantes: 28\n",
            "Asignatura: Animales de Producción A1 - Diurna, Cantidad de estudiantes: 25\n",
            "Asignatura: Animales de Compañía A2 - Diurna, Cantidad de estudiantes: 22\n",
            "Asignatura: Animales de Producción S1 - Sabatina, Cantidad de estudiantes: 3\n",
            "Asignatura: Animales de Compañía A1 - Diurna, Cantidad de estudiantes: 27\n",
            "Asignatura: Adulto Mayor F1 - Diurna, Cantidad de estudiantes: 17\n",
            "Asignatura: Adulto Mayor S1 - Sabatina, Cantidad de estudiantes: 15\n",
            "Asignatura: Análisis de la Evidencia B1 - Diurna, Cantidad de estudiantes: 3\n",
            "Asignatura: Accidentología Vial A1 - Diurna, Cantidad de estudiantes: 7\n",
            "Asignatura: Animales de Producción B1 - Diurna, Cantidad de estudiantes: 4\n",
            "Asignatura: Anatomía B1 - Diurna, Cantidad de estudiantes: 1\n",
            "Asignatura: Análisis de la Evidencia B1 - Nocturna, Cantidad de estudiantes: 6\n",
            "Asignatura: Anatomía B1 - Sabatina, Cantidad de estudiantes: 1\n",
            "Asignatura: Adulto Mayor F1 - Sabatina, Cantidad de estudiantes: 2\n",
            "Asignatura: Animales de Producción A2 - Nocturna, Cantidad de estudiantes: 1\n",
            "Asignatura: Animales de Compañía S1 - Diurna, Cantidad de estudiantes: 1\n",
            "Asignatura: Administración de Medicamentos F1 - Sabatina, Cantidad de estudiantes: 1\n",
            "Asignatura: Admisión al Usuario F1 - Diurna, Cantidad de estudiantes: 1\n",
            "Asignatura: Animales de Producción F1 (Funza) - Diurna, Cantidad de estudiantes: 22\n",
            "Asignatura: Animales de Compañía S1 - Sabatina, Cantidad de estudiantes: 47\n",
            "Asignatura: Animales de Producción A2 - Diurna, Cantidad de estudiantes: 25\n",
            "Asignatura: Administración de Medicamentos F1 - Diurna, Cantidad de estudiantes: 15\n",
            "Asignatura: Animales de Compañía F1 (Funza) - Diurna, Cantidad de estudiantes: 38\n",
            "Asignatura: Animales de Producción A3 - Diurna, Cantidad de estudiantes: 16\n",
            "Asignatura: Análisis de la Evidencia A1 - Diurna, Cantidad de estudiantes: 13\n",
            "Asignatura: Anatomía Forense B1 - Nocturna, Cantidad de estudiantes: 14\n",
            "Asignatura: Anatomía Forense B1 - Diurna, Cantidad de estudiantes: 3\n",
            "Asignatura: Animales de Producción B1 - Nocturna, Cantidad de estudiantes: 31\n",
            "Asignatura: Animales de Compañía A3 - Diurna, Cantidad de estudiantes: 23\n",
            "Asignatura: Anatomía Forense A2 - Diurna, Cantidad de estudiantes: 26\n",
            "Asignatura: Animales de Compañía B1 - Nocturna, Cantidad de estudiantes: 33\n",
            "Asignatura: Análisis de la Evidencia F1 (Funza) - Diurna, Cantidad de estudiantes: 13\n",
            "Asignatura: Accidentología Vial B1 - Nocturna, Cantidad de estudiantes: 8\n",
            "Asignatura: Animales de Producción A3 - Nocturna, Cantidad de estudiantes: 2\n",
            "Asignatura: Animales de Producción A3 - Sabatina, Cantidad de estudiantes: 2\n",
            "Asignatura: Accidentología Vial F1 (Funza) - Diurna, Cantidad de estudiantes: 6\n",
            "Asignatura: Accidentología Vial B1 - Diurna, Cantidad de estudiantes: 1\n",
            "Asignatura: Adulto Mayor S1 - Diurna, Cantidad de estudiantes: 1\n"
          ]
        }
      ]
    }
  ]
}